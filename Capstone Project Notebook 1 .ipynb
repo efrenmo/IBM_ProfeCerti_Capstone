{
    "cells": [
        {
            "metadata": {},
            "cell_type": "markdown",
            "source": "<div style=\"text-align: right\"> Efren Andres Mora </div>"
        },
        {
            "metadata": {
                "collapsed": true
            },
            "cell_type": "markdown",
            "source": "<div style=\"text-align: center\"> <h1>Applied Data Science Capstone Project</h1> </div>"
        },
        {
            "metadata": {},
            "cell_type": "markdown",
            "source": "This notebook will be used to work on the IBM Applied Data Science Capstone Project."
        },
        {
            "metadata": {},
            "cell_type": "markdown",
            "source": "<h3>Notebook 1 - Creating a repository on GitHub</h3>"
        },
        {
            "metadata": {},
            "cell_type": "markdown",
            "source": "We first created a repository on GitHub following the instructions on this [link.](https://medium.com/@aklson_DS/how-to-properly-setup-your-github-repository-windows-version-ea596b398b)"
        },
        {
            "metadata": {},
            "cell_type": "code",
            "source": "import pandas as pd\nimport numpy as np ",
            "execution_count": 2,
            "outputs": []
        },
        {
            "metadata": {},
            "cell_type": "code",
            "source": "print('Hello Capstone Project Course')",
            "execution_count": 4,
            "outputs": [
                {
                    "output_type": "stream",
                    "text": "Hello Capstone Project Course\n",
                    "name": "stdout"
                }
            ]
        },
        {
            "metadata": {},
            "cell_type": "code",
            "source": "",
            "execution_count": null,
            "outputs": []
        }
    ],
    "metadata": {
        "kernelspec": {
            "name": "python3",
            "display_name": "Python 3.6",
            "language": "python"
        },
        "language_info": {
            "name": "python",
            "version": "3.6.9",
            "mimetype": "text/x-python",
            "codemirror_mode": {
                "name": "ipython",
                "version": 3
            },
            "pygments_lexer": "ipython3",
            "nbconvert_exporter": "python",
            "file_extension": ".py"
        }
    },
    "nbformat": 4,
    "nbformat_minor": 1
}