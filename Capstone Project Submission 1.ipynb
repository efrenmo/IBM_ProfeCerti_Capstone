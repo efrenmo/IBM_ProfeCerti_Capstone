{
    "cells": [
        {
            "cell_type": "markdown",
            "metadata": {},
            "source": "<h1 align=center><b> Neighborhoods Composition: Toronto Vs Montreal</b></h1> \n<h1 align=center><b> And</b></h1> \n<h1 align=center> <b> Where In Toronto Should We Open A Vegan Restaurant</b></h1>    \n    \n    "
        },
        {
            "cell_type": "markdown",
            "metadata": {},
            "source": "<h2>1. Introduction</h2>"
        },
        {
            "cell_type": "markdown",
            "metadata": {},
            "source": "A first time business owner wants to open a vegan restaurant in Toronto and has asked for advice about where it should be located. There is also the possibility of opening a second one in Montreal, within 2 to 5 years after having open the first one. She is roughly familiar with the city of Toronto and its neighborhoods, but not so much with the city of Montreal. So, she has asked for an analysis of the composition of the neighborhoods (in terms of venues)  in these two cities, and map equivalent neighborhoods, so she can continue exploring the idea of opening the one in Montreal. "
        },
        {
            "cell_type": "markdown",
            "metadata": {},
            "source": "We have 2 tasks at hand:\n* To find where should we open a vegan restaurant in Toronto.\n* To compare neighborhoods in Montreal to the ones in Toronto, in terms of venue composition, and identify equivalents.\n"
        },
        {
            "cell_type": "markdown",
            "metadata": {},
            "source": "<h2>2. Data Sources</h2>"
        },
        {
            "cell_type": "markdown",
            "metadata": {},
            "source": "<b> Foursquare API:</b>\n* Is my main tool. It will be used to virtually explore Toronto and Montreal Neighborhoods, and to gather data that will ultimately help us answer our questions.\n* Instead of using the \u2018explore\u2019 endpoint when making \u2018GET Venues\u2019 requests to the Foursquare API, we will be using the \u2018search\u2019 endpoint for venues within a specific category IDs depending which question we are trying to answer.\n* For instance, when trying to compare neighborhoods in Montreal to the ones in Toronto, we will be using all the header (or main) category IDs from the Foursquare category tree. All other category IDs will ultimately fall underneath one these header category IDs. \n    * Arts & Entertainment: 4d4b7104d754a06370d81259\n    * College & University: 4d4b7105d754a06372d81259\n    * Event: 4d4b7105d754a06373d81259\n    * Food: 4d4b7105d754a06374d81259\n    * Nightlife Spot: 4d4b7105d754a06376d81259\n    * Outdoors & Recreation: 4d4b7105d754a06377d81259\n    * Professional & Other Places: 4d4b7105d754a06375d81259\n    * Residence: 4e67e38e036454776db1fb3a\n    * Shop & Service: 4d4b7105d754a06378d81259\n    * Travel & Transport: 4d4b7105d754a06379d81259\n    \n* For the complete list of Foursquare venue category IDs please visit https://developer.foursquare.com/docs/build-with-foursquare/categories/\n* We will deliberately \u2018search\u2019 for these venue categories in each neighborhood, and gather this data to create a features pool that will be used to cluster neighborhoods based on venue composition similarity. \n* Also, when looking for where to open a vegan restaurant in Toronto, Foursquare will be used to locate where are the existing vegan, and other cuisine restaurants located. We will use this information to plot these restaurants in a map to visually capture the distribution across the city. Among the specific venue category ID\u2019s used to locate restaurants across the city of Toronto are:\n    * Vegan Restaurant: 4bf58dd8d48988d1d3941735\n    * Asian Restaurant: 4bf58dd8d48988d142941735\n    * Caribbean Restaurant: 4bf58dd8d48988d144941735\n    * French Restaurant: 4bf58dd8d48988d10c941735\n    * Greek Restaurants: 4bf58dd8d48988d10e941735\n    * Indian Restaurants: 4bf58dd8d48988d10f941735\n    * Italian Restaurants: 4bf58dd8d48988d110941735\n    * Latin American Restaurants: 4bf58dd8d48988d1be941735\n    * Mediterranean Restaurants: 4bf58dd8d48988d1c0941735\n    * Mexican Restaurants: 4bf58dd8d48988d1c1941735\n    * Portuguese Restaurants: 4def73e84765ae376e57713a\n    * Stake house: 4bf58dd8d48988d1cc941735\n    * And more\u2026. \n  \n* Aditionally, we will use the \u2018GET Next Venues\u2019 endpoint on vegan and non-vegan restaurants.  This, will retrieve a list of venues where users have checked-in after having attended one of the input venues (in this case a vegan restaurant). We hope this may give us valuable insight into where customers go after having checked-in into a vegan restaurant, so we can possibly open ours in a similar environment or near similar venues.  \n\n<b>Wikipedia:</b> <br>\nhttps://en.wikipedia.org/wiki/List_of_postal_codes_of_Canada:_M <br>\nhttps://en.wikipedia.org/wiki/List_of_postal_codes_of_Canada:_H\n* To explore Toronto\u2019s and Montreal\u2019s neighborhoods, we first need a list of their names and addresses. In this case, the address to a Canadian neighborhood is the first 3 digits of a postal code, formally referred to as a forward sortation area or FSA for short. \n\n<b>Geocoder</b> (Powered by Bing search engine):\n* Because we are using Foursquare to explore the cities, and its API  take addresses in the form of latitude and longitude coordinates, FSAs need to be converted to geographical coordinates. Here is where Geocoder comes into play, facilitating this conversion. \n\n<b>FSA Boundary File from Census 2016:</b> https://www12.statcan.gc.ca/census-recensement/2011/geo/bound-limit/bound-limit-2016-eng.cfm\n* To  show the FSA neighborhoods boundaries superimposed on a map of the city of Toronto, and Montreal.\n\n<b>Population by FSA from Census 2016:</b> https://www12.statcan.gc.ca/census-recensement/2016/dp-pd/hlt-fst/pd-pl/comprehensive.cfm\n* To include population by FSA as a feature for neighborhood clustering.\n* The client would want to know the population size of the neighborhood clusters.\n* We also want to test if the population size of the neighborhood affect the number of restaurants in the area.\n\n<b>Median total income of households per FSA from Census Profile, 2016 Census:</b> https://www12.statcan.gc.ca/census-recensement/2016/dp-pd/prof/details/download-telecharger/comp/page_dl-tc.cfm?Lang=E\n* To include median income by FSA as a feature for neighborhood clustering.\n* The client would want to know the median income of families living in or near the neighborhoods that make up a particular cluster.\n* We also want to test if the median income of families living in the neighborhood affect the number of restaurants in the area.\n"
        },
        {
            "cell_type": "code",
            "execution_count": null,
            "metadata": {},
            "outputs": [],
            "source": ""
        }
    ],
    "metadata": {
        "kernelspec": {
            "display_name": "Python 3",
            "language": "python",
            "name": "python3"
        },
        "language_info": {
            "codemirror_mode": {
                "name": "ipython",
                "version": 3
            },
            "file_extension": ".py",
            "mimetype": "text/x-python",
            "name": "python",
            "nbconvert_exporter": "python",
            "pygments_lexer": "ipython3",
            "version": "3.7.3"
        }
    },
    "nbformat": 4,
    "nbformat_minor": 4
}